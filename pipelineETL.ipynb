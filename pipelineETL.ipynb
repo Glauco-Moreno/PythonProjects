{
  "nbformat": 4,
  "nbformat_minor": 0,
  "metadata": {
    "colab": {
      "provenance": [],
      "authorship_tag": "ABX9TyNNALqLv8ngPTPvbMIcTbJh",
      "include_colab_link": true
    },
    "kernelspec": {
      "name": "python3",
      "display_name": "Python 3"
    },
    "language_info": {
      "name": "python"
    }
  },
  "cells": [
    {
      "cell_type": "markdown",
      "metadata": {
        "id": "view-in-github",
        "colab_type": "text"
      },
      "source": [
        "<a href=\"https://colab.research.google.com/github/Glauco-Moreno/PythonProjects/blob/main/pipelineETL.ipynb\" target=\"_parent\"><img src=\"https://colab.research.google.com/assets/colab-badge.svg\" alt=\"Open In Colab\"/></a>"
      ]
    },
    {
      "cell_type": "markdown",
      "source": [
        "##Importação"
      ],
      "metadata": {
        "id": "RRl__yAEGC85"
      }
    },
    {
      "cell_type": "code",
      "source": [
        "## O trabalho a seguir se destino a buscar os melhores candidatosda área contábil\n",
        "##existentes num banco de dados de uma empresa de Rh\n",
        "##\n",
        "##COLUNAS\n",
        "##UserID\n",
        "##Name\n",
        "##Activity\t- função desempenhada sem acentos\n",
        "##Status\t- Atual situação de trabalho\n",
        "##Company\t- Caso já esteja trabalhando em algum lugar\n",
        "##Stage\t- Em que fase do pipeline da empresa está\n",
        "##Expectation\t- Remuneração esperada\n",
        "##Number\t- celular\n",
        "##Address\t- endereço\n",
        "##City\t- cidade\n",
        "##Linkedin"
      ],
      "metadata": {
        "id": "ccaAiCIPGXYn"
      },
      "execution_count": null,
      "outputs": []
    },
    {
      "cell_type": "code",
      "execution_count": null,
      "metadata": {
        "id": "_4MTCF1VB5gX"
      },
      "outputs": [],
      "source": [
        "import pandas as pd\n",
        "import numpy as np\n"
      ]
    },
    {
      "cell_type": "code",
      "source": [
        "df = pd.read_excel(\"people.xlsx\")\n",
        "\n",
        "\n",
        "user_ids = df['UserID'].tolist()\n",
        "print(user_ids)\n",
        "\n",
        "df.iloc[2]\n",
        "\n",
        "print(df['Activity'])"
      ],
      "metadata": {
        "id": "ZStpD-sJCKxw"
      },
      "execution_count": null,
      "outputs": []
    },
    {
      "cell_type": "markdown",
      "source": [
        "#Busca"
      ],
      "metadata": {
        "id": "Fheq1L-5GB2X"
      }
    },
    {
      "cell_type": "code",
      "source": [
        "##Busca por área de Atuação/Vaga buscada\n",
        "\n",
        "\n",
        "def atuacao(ativ, users = df):\n",
        "  lista=[]\n",
        "  indice = 0\n",
        "  for atividade in users['Activity']:\n",
        "    if atividade == ativ:\n",
        "      lista.append(users.iloc[indice])\n",
        "    indice +=1\n",
        "  return lista\n",
        "\n",
        "candidatos = pd.DataFrame(atuacao(\"Especialista Contabil\"))\n",
        "cand_email = candidatos.drop(columns = \"UserID\")\n",
        "print(cand_email)\n",
        "\n",
        "##file_name = 'candidatos.xlsx'\n",
        "\n",
        "#salvando o excel\n",
        "cand_email.to_excel('candidatos.xlsx', index=False)"
      ],
      "metadata": {
        "id": "8VItW9cLGBLa"
      },
      "execution_count": null,
      "outputs": []
    },
    {
      "cell_type": "markdown",
      "source": [
        "#Alteração"
      ],
      "metadata": {
        "id": "hpeB12Q4GIu4"
      }
    },
    {
      "cell_type": "code",
      "source": [
        "base = df\n",
        "##print(base[\"UserID\"])\n",
        "print(df['Activity'])"
      ],
      "metadata": {
        "id": "tILwaGsTagnA"
      },
      "execution_count": null,
      "outputs": []
    },
    {
      "cell_type": "code",
      "source": [
        "def atividade(user_id,valor,base = df):\n",
        "  line = user_id - 1;\n",
        "  base['Activity'][line] = valor\n",
        "\n",
        "def status(user_id,valor,base = df):\n",
        "  line = user_id - 1;\n",
        "  base['Status'][line] = valor\n",
        "\n",
        "def altera(user_id,valor,funcao):\n",
        "  resultado = funcao(user_id,valor)\n",
        "\n",
        "altera(5,\"Analista Junior\", atividade)\n",
        "altera(5,\"Aprovado\", status)\n",
        "\n",
        "print(base['Activity'])\n",
        "print(df['Status'])"
      ],
      "metadata": {
        "id": "pW0hKccIUHTZ"
      },
      "execution_count": null,
      "outputs": []
    },
    {
      "cell_type": "markdown",
      "source": [
        "#Update - novos candidatos\n",
        "\n"
      ],
      "metadata": {
        "id": "dmMsxD_0GMGI"
      }
    },
    {
      "cell_type": "code",
      "source": [
        "df['UserID'].iloc[-1]\n",
        "line = df['UserID'].iloc[-1] + 1\n",
        "line"
      ],
      "metadata": {
        "colab": {
          "base_uri": "https://localhost:8080/"
        },
        "id": "IfHCyUh6kQsK",
        "outputId": "bd0d9afa-d9b0-4d15-dec8-77d37c330f0e"
      },
      "execution_count": null,
      "outputs": [
        {
          "output_type": "execute_result",
          "data": {
            "text/plain": [
              "21"
            ]
          },
          "metadata": {},
          "execution_count": 134
        }
      ]
    },
    {
      "cell_type": "code",
      "source": [
        "def novo(nome,atividade, status, empresa,fase,salario, numero, endereco, cidade, link):\n",
        "  line = df['UserID'].iloc[-1] + 1\n",
        "  df.loc[line] = [line, nome, atividade, status, empresa,fase,salario, numero, endereco, cidade, link]\n",
        "\n",
        "novo(\"Carlos Alberto\", \"Diretor Contabil\", \"Diponivel\", \"AirLines\",\"Contato\",4500,\"(11)8888-8888\",\"Rua lapa, 189\",\"Coritiba\",\"https://br.linkedin.com/in/carlos\")\n",
        "\n",
        "df.to_excel('people.xlsx', index=False)\n"
      ],
      "metadata": {
        "id": "HteLda1fiqY8"
      },
      "execution_count": null,
      "outputs": []
    },
    {
      "cell_type": "code",
      "source": [
        "print(df.to_markdown())"
      ],
      "metadata": {
        "id": "xsAzlZ0fnHQa"
      },
      "execution_count": null,
      "outputs": []
    },
    {
      "cell_type": "markdown",
      "source": [
        "##Excluir"
      ],
      "metadata": {
        "id": "XStNe1LDnNrC"
      }
    },
    {
      "cell_type": "code",
      "source": [
        "##Exclusão\n",
        "def exclui(user_id,base = df):\n",
        "  line = user_id - 1;\n",
        "  base.drop(line)\n",
        "\n",
        "exclui(20)\n",
        "\n",
        "df.to_excel('people.xlsx', index=False)"
      ],
      "metadata": {
        "id": "eagaGU8LnPrv"
      },
      "execution_count": null,
      "outputs": []
    }
  ]
}